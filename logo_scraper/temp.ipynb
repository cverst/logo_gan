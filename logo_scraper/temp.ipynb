{
 "cells": [
  {
   "cell_type": "code",
   "execution_count": 13,
   "id": "0933b8ab-f508-4ae1-8409-1d48230092d2",
   "metadata": {},
   "outputs": [],
   "source": [
    "import csv\n",
    "import pandas as pd\n",
    "import scrapy"
   ]
  },
  {
   "cell_type": "code",
   "execution_count": 12,
   "id": "acbfee2b-af16-4d4a-aa40-38b469216a0e",
   "metadata": {},
   "outputs": [],
   "source": [
    "companies = []\n",
    "with open(\"Forbes-2021.csv\", \"r\", encoding=\"ISO-8859-1\") as csvfile:\n",
    "    csvreader = csv.reader(csvfile)\n",
    "    next(csvreader)  # skip header\n",
    "    for row in csvreader:\n",
    "        companies.append(row)\n"
   ]
  },
  {
   "cell_type": "code",
   "execution_count": 9,
   "id": "8f3bab0f-9857-4434-884f-8671df4a62d3",
   "metadata": {},
   "outputs": [
    {
     "data": {
      "text/html": [
       "<div>\n",
       "<style scoped>\n",
       "    .dataframe tbody tr th:only-of-type {\n",
       "        vertical-align: middle;\n",
       "    }\n",
       "\n",
       "    .dataframe tbody tr th {\n",
       "        vertical-align: top;\n",
       "    }\n",
       "\n",
       "    .dataframe thead th {\n",
       "        text-align: right;\n",
       "    }\n",
       "</style>\n",
       "<table border=\"1\" class=\"dataframe\">\n",
       "  <thead>\n",
       "    <tr style=\"text-align: right;\">\n",
       "      <th></th>\n",
       "      <th>Rank</th>\n",
       "      <th>Name</th>\n",
       "      <th>Country</th>\n",
       "      <th>Sales</th>\n",
       "      <th>Profit</th>\n",
       "      <th>Assets</th>\n",
       "      <th>Market Value</th>\n",
       "    </tr>\n",
       "  </thead>\n",
       "  <tbody>\n",
       "    <tr>\n",
       "      <th>0</th>\n",
       "      <td>1</td>\n",
       "      <td>ICBC</td>\n",
       "      <td>China</td>\n",
       "      <td>$190.5 B</td>\n",
       "      <td>$45.8 B</td>\n",
       "      <td>$4,914.7 B</td>\n",
       "      <td>$249.5 B</td>\n",
       "    </tr>\n",
       "    <tr>\n",
       "      <th>1</th>\n",
       "      <td>2</td>\n",
       "      <td>JPMorgan Chase</td>\n",
       "      <td>United States</td>\n",
       "      <td>$136.2 B</td>\n",
       "      <td>$40.4 B</td>\n",
       "      <td>$3,689.3 B</td>\n",
       "      <td>$464.8 B</td>\n",
       "    </tr>\n",
       "    <tr>\n",
       "      <th>2</th>\n",
       "      <td>3</td>\n",
       "      <td>Berkshire Hathaway</td>\n",
       "      <td>United States</td>\n",
       "      <td>$245.5 B</td>\n",
       "      <td>$42.5 B</td>\n",
       "      <td>$873.7 B</td>\n",
       "      <td>$624.4 B</td>\n",
       "    </tr>\n",
       "    <tr>\n",
       "      <th>3</th>\n",
       "      <td>4</td>\n",
       "      <td>China Construction Bank</td>\n",
       "      <td>China</td>\n",
       "      <td>$173.5 B</td>\n",
       "      <td>$39.3 B</td>\n",
       "      <td>$4,301.7 B</td>\n",
       "      <td>$210.4 B</td>\n",
       "    </tr>\n",
       "    <tr>\n",
       "      <th>4</th>\n",
       "      <td>5</td>\n",
       "      <td>Saudi Arabian Oil Company (Saudi Aramco)</td>\n",
       "      <td>Saudi Arabia</td>\n",
       "      <td>$229.7 B</td>\n",
       "      <td>$49.3 B</td>\n",
       "      <td>$510.3 B</td>\n",
       "      <td>$1,897.2 B</td>\n",
       "    </tr>\n",
       "    <tr>\n",
       "      <th>...</th>\n",
       "      <td>...</td>\n",
       "      <td>...</td>\n",
       "      <td>...</td>\n",
       "      <td>...</td>\n",
       "      <td>...</td>\n",
       "      <td>...</td>\n",
       "      <td>...</td>\n",
       "    </tr>\n",
       "    <tr>\n",
       "      <th>1995</th>\n",
       "      <td>1996</td>\n",
       "      <td>JTEKT</td>\n",
       "      <td>Japan</td>\n",
       "      <td>$13.1 B</td>\n",
       "      <td>$-34.9 M</td>\n",
       "      <td>$12 B</td>\n",
       "      <td>$3.5 B</td>\n",
       "    </tr>\n",
       "    <tr>\n",
       "      <th>1996</th>\n",
       "      <td>1997</td>\n",
       "      <td>Insurance Australia Group</td>\n",
       "      <td>Australia</td>\n",
       "      <td>$5.4 B</td>\n",
       "      <td>$-212 M</td>\n",
       "      <td>$25 B</td>\n",
       "      <td>$9.3 B</td>\n",
       "    </tr>\n",
       "    <tr>\n",
       "      <th>1997</th>\n",
       "      <td>1997</td>\n",
       "      <td>Sumec Corporation</td>\n",
       "      <td>China</td>\n",
       "      <td>$13 B</td>\n",
       "      <td>$79.2 M</td>\n",
       "      <td>$7.1 B</td>\n",
       "      <td>$1.3 B</td>\n",
       "    </tr>\n",
       "    <tr>\n",
       "      <th>1998</th>\n",
       "      <td>1999</td>\n",
       "      <td>Gold Fields</td>\n",
       "      <td>South Africa</td>\n",
       "      <td>$3.9 B</td>\n",
       "      <td>$718.1 M</td>\n",
       "      <td>$7.5 B</td>\n",
       "      <td>$8.9 B</td>\n",
       "    </tr>\n",
       "    <tr>\n",
       "      <th>1999</th>\n",
       "      <td>1999</td>\n",
       "      <td>Paycom</td>\n",
       "      <td>United States</td>\n",
       "      <td>$841 M</td>\n",
       "      <td>$143.4 M</td>\n",
       "      <td>$2.6 B</td>\n",
       "      <td>$24 B</td>\n",
       "    </tr>\n",
       "  </tbody>\n",
       "</table>\n",
       "<p>2000 rows × 7 columns</p>\n",
       "</div>"
      ],
      "text/plain": [
       "      Rank                                      Name        Country     Sales  \\\n",
       "0        1                                      ICBC          China  $190.5 B   \n",
       "1        2                            JPMorgan Chase  United States  $136.2 B   \n",
       "2        3                        Berkshire Hathaway  United States  $245.5 B   \n",
       "3        4                   China Construction Bank          China  $173.5 B   \n",
       "4        5  Saudi Arabian Oil Company (Saudi Aramco)   Saudi Arabia  $229.7 B   \n",
       "...    ...                                       ...            ...       ...   \n",
       "1995  1996                                     JTEKT          Japan   $13.1 B   \n",
       "1996  1997                 Insurance Australia Group      Australia    $5.4 B   \n",
       "1997  1997                         Sumec Corporation          China     $13 B   \n",
       "1998  1999                               Gold Fields   South Africa    $3.9 B   \n",
       "1999  1999                                    Paycom  United States    $841 M   \n",
       "\n",
       "        Profit      Assets Market Value  \n",
       "0      $45.8 B  $4,914.7 B     $249.5 B  \n",
       "1      $40.4 B  $3,689.3 B     $464.8 B  \n",
       "2      $42.5 B    $873.7 B     $624.4 B  \n",
       "3      $39.3 B  $4,301.7 B     $210.4 B  \n",
       "4      $49.3 B    $510.3 B   $1,897.2 B  \n",
       "...        ...         ...          ...  \n",
       "1995  $-34.9 M       $12 B       $3.5 B  \n",
       "1996   $-212 M       $25 B       $9.3 B  \n",
       "1997   $79.2 M      $7.1 B       $1.3 B  \n",
       "1998  $718.1 M      $7.5 B       $8.9 B  \n",
       "1999  $143.4 M      $2.6 B        $24 B  \n",
       "\n",
       "[2000 rows x 7 columns]"
      ]
     },
     "execution_count": 9,
     "metadata": {},
     "output_type": "execute_result"
    }
   ],
   "source": [
    "pd.read_csv('Forbes-2021.csv', encoding=\"ISO-8859-1\").csv_write"
   ]
  },
  {
   "cell_type": "code",
   "execution_count": 23,
   "id": "9480175d-037b-4a22-8fe7-5ed73e2a84ce",
   "metadata": {},
   "outputs": [],
   "source": [
    "def get_urls():\n",
    "    companies = []\n",
    "    with open(\"Forbes-2021.csv\", \"r\", encoding=\"ISO-8859-1\") as csvfile:\n",
    "        csvreader = csv.reader(csvfile)\n",
    "        next(csvreader)  # skip header\n",
    "        for row in csvreader:\n",
    "            companies.append(row[1])\n",
    "    \n",
    "    url_start = 'https://en.wikipedia.org/w/index.php?search='\n",
    "    start_urls = [url_start + comp.replace(' ', '+') for comp in  companies]\n",
    "    return start_urls"
   ]
  },
  {
   "cell_type": "code",
   "execution_count": 26,
   "id": "ab68c528-86ec-424f-b885-b81d863fd39d",
   "metadata": {},
   "outputs": [],
   "source": [
    "qq = get_urls()"
   ]
  },
  {
   "cell_type": "code",
   "execution_count": 27,
   "id": "7d486662-c4c6-4ea0-8f82-1973f0783b03",
   "metadata": {},
   "outputs": [
    {
     "data": {
      "text/plain": [
       "['https://en.wikipedia.org/w/index.php?search=ICBC',\n",
       " 'https://en.wikipedia.org/w/index.php?search=JPMorgan+Chase',\n",
       " 'https://en.wikipedia.org/w/index.php?search=Berkshire+Hathaway',\n",
       " 'https://en.wikipedia.org/w/index.php?search=China+Construction+Bank',\n",
       " 'https://en.wikipedia.org/w/index.php?search=Saudi+Arabian+Oil+Company+(Saudi+Aramco)',\n",
       " 'https://en.wikipedia.org/w/index.php?search=Apple',\n",
       " 'https://en.wikipedia.org/w/index.php?search=Bank+of+America',\n",
       " 'https://en.wikipedia.org/w/index.php?search=Ping+An+Insurance+Group',\n",
       " 'https://en.wikipedia.org/w/index.php?search=Agricultural+Bank+of+China',\n",
       " 'https://en.wikipedia.org/w/index.php?search=Amazon']"
      ]
     },
     "execution_count": 27,
     "metadata": {},
     "output_type": "execute_result"
    }
   ],
   "source": [
    "qq[:10]"
   ]
  },
  {
   "cell_type": "code",
   "execution_count": 33,
   "id": "7cd77192-abf6-4b71-91f2-b554f98d56e5",
   "metadata": {},
   "outputs": [
    {
     "data": {
      "text/plain": [
       "'/Users/corstiaen/git/logo_gan/logo_scraper'"
      ]
     },
     "execution_count": 33,
     "metadata": {},
     "output_type": "execute_result"
    }
   ],
   "source": [
    "import os\n",
    "os.getcwd()"
   ]
  },
  {
   "cell_type": "code",
   "execution_count": null,
   "id": "650fbc6c-74a7-434a-8d34-4c7edaa31241",
   "metadata": {},
   "outputs": [],
   "source": []
  }
 ],
 "metadata": {
  "kernelspec": {
   "display_name": "logoenv",
   "language": "python",
   "name": "logoenv"
  },
  "language_info": {
   "codemirror_mode": {
    "name": "ipython",
    "version": 3
   },
   "file_extension": ".py",
   "mimetype": "text/x-python",
   "name": "python",
   "nbconvert_exporter": "python",
   "pygments_lexer": "ipython3",
   "version": "3.7.6"
  }
 },
 "nbformat": 4,
 "nbformat_minor": 5
}
